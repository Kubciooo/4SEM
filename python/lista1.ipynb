{
 "cells": [
  {
   "cell_type": "markdown",
   "metadata": {},
   "source": [
    "# Lista 1\n",
    "\n",
    "## Kurs wybranego języka programowania (Python)\n",
    "\n",
    "Wszystkie rozwiązania proszę wpisać w tym notatniku poniżej treści zadań. Zadania z `*` to zadania dodatkowe."
   ]
  },
  {
   "cell_type": "markdown",
   "metadata": {},
   "source": [
    "## Zadanie 1 _(5pt)_\n",
    "\n",
    "Napisz funkcję, który wyświetla trójkąt Pascala o zadanej wysokości\n",
    "```\n",
    "                1\n",
    "              1   1\n",
    "            1   2   1\n",
    "          1   3   3   1\n",
    "        1   4   6   4   1\n",
    "      .....................\n",
    "```"
   ]
  },
  {
   "cell_type": "code",
   "execution_count": 6,
   "metadata": {},
   "outputs": [
    {
     "name": "stdout",
     "output_type": "stream",
     "text": "\n               1   [[1, 1], [1, 1], [1, 2, 1]]\n             1   1   [[1, 1], [1, 1], [1, 2, 1]]\n           1   2   1   [[1, 1], [1, 1], [1, 2, 1]]\n"
    }
   ],
   "source": [
    "def pascal_triangle(n):\n",
    "    tab = []\n",
    "    for i in range(n):\n",
    "        tab.append([])\n",
    "        tab[i].append(1)\n",
    "        for j in range(1,i):\n",
    "            tab[i].append(tab[i-1][j-1]+tab[i-1][j])\n",
    "        tab[i].append(1)\n",
    "    spacje = 4*n\n",
    "    print()\n",
    "    for i in range(n):\n",
    "        print(\" \"*spacje,end=\"   \")\n",
    "        spacje = spacje-2\n",
    "        for j in range(i+1):\n",
    "            print((tab[i][j]),end=\"   \")\n",
    "        print(tab)\n",
    "pascal_triangle(3)"
   ]
  },
  {
   "cell_type": "markdown",
   "metadata": {},
   "source": [
    "## Zadanie 2 _(5pt)_\n",
    "\n",
    "Napisz funkcję `primes(n)` zwracająca listę liczb pierwszych nie większych niż $n$ np.\n",
    "\n",
    "```\n",
    "In [ ]:   primes(6)\n",
    "Out [ ]: [2, 3, 5]\n",
    "```"
   ]
  },
  {
   "cell_type": "code",
   "execution_count": 7,
   "metadata": {},
   "outputs": [
    {
     "name": "stdout",
     "output_type": "stream",
     "text": "[2, 3, 5, 7, 11, 13, 17, 19, 23, 29, 31, 37, 41, 43, 47, 53, 59, 61, 67, 71, 73, 79, 83, 89, 97]\n\n"
    }
   ],
   "source": [
    "def primes(n):\n",
    "    tab = []\n",
    "    for i in range(1000001):\n",
    "        tab.append(0)\n",
    "    for i in range(2,1001):\n",
    "        if(tab[i] == 0):\n",
    "            for j in range(i+i, 1000001, i):\n",
    "                tab[j] = 1\n",
    "    lista = []\n",
    "    for i in range(2,n+1):\n",
    "        if(tab[i]==0):\n",
    "            lista.append(i)\n",
    "    print(lista)\n",
    "    print()\n",
    "primes(100)\n"
   ]
  },
  {
   "cell_type": "markdown",
   "metadata": {},
   "source": [
    "## Zadanie 3 _(5pt)_\n",
    "\n",
    "Napisz funkcje, która usuwa wszystkie powtarzające się elementy z listy (tak, że każdy element występuje tylko raz) np. z listy `[1,1,2,2,2,3,3,5,5,5,4,4,4,0]` dostajemy `[1,2,3,5,4,0]`."
   ]
  },
  {
   "cell_type": "code",
   "execution_count": 3,
   "metadata": {},
   "outputs": [
    {
     "name": "stdout",
     "output_type": "stream",
     "text": "[1, 2, 3, 5, 10, 4, 0]\n"
    }
   ],
   "source": [
    "def delete_from_list(n):\n",
    "    for i in(n):\n",
    "        while(n.count(i)>1):\n",
    "            n.remove(i)\n",
    "    print((n))\n",
    "delete_from_list([1,1,2,2,2,3,3,5,5,5,4,10,4,4,0])"
   ]
  },
  {
   "cell_type": "markdown",
   "metadata": {},
   "source": [
    "## Zadanie 4 _(10pt)_\n",
    "\n",
    "Napisz funkcję `prime_factors(n)`, która rozkłada $n$ na czynniki pierwsze i jako wynik wraca listę par $[(p_1,\\alpha_1), (p_2,\\alpha_2), \\ldots, (p_k, \\alpha_k)]$ taką, że $p_1^{\\alpha_1}p_2^{\\alpha_2}\\ldots p_k^{\\alpha_k}$.\n"
   ]
  },
  {
   "cell_type": "code",
   "execution_count": 9,
   "metadata": {},
   "outputs": [
    {
     "name": "stdout",
     "output_type": "stream",
     "text": "[[2, 3], [5, 3]]\n"
    }
   ],
   "source": [
    "def divisor(n,k):\n",
    "    liczba = 0\n",
    "    while(n%k==0):\n",
    "        liczba = liczba+1\n",
    "        n = n/k\n",
    "    return liczba\n",
    "def prime_factors(n):\n",
    "    lista = []\n",
    "    for i in range(2,n+1):\n",
    "        liczba = divisor(n,i)\n",
    "        if(liczba!=0):\n",
    "            n = n/(i**liczba)\n",
    "            lista.append([i,liczba])\n",
    "    print(lista)\n",
    "prime_factors(1000)\n",
    ""
   ]
  },
  {
   "cell_type": "markdown",
   "metadata": {},
   "source": [
    "## Zadanie 5 _(10pt)_\n",
    "\n",
    "Napisz funkcję `fraczero(n)` liczącą silnie $n!$ dla $n$ od $0$ do $10000$ oraz jako wynik wraca liczbę zer na końcu $n!$."
   ]
  },
  {
   "cell_type": "code",
   "execution_count": 20,
   "metadata": {},
   "outputs": [
    {
     "name": "stdout",
     "output_type": "stream",
     "text": "3628800\n2\n"
    }
   ],
   "source": [
    "def piatki(n):\n",
    "    wynik = 0\n",
    "    potega = 1\n",
    "    while(n>=(5**potega)):\n",
    "        wynik = wynik+int(n/(5**potega))\n",
    "        potega = potega+1\n",
    "    return wynik\n",
    "def fraczero(n):\n",
    "    silnia = 1\n",
    "    for i in range(1,n+1):\n",
    "        silnia = silnia*i\n",
    "    print(silnia)\n",
    "    print(piatki(n))\n",
    "    \n",
    "fraczero(10)"
   ]
  },
  {
   "cell_type": "markdown",
   "metadata": {},
   "source": [
    "## Zadanie 6 _(10pt)_\n",
    "\n",
    "Napisz program, który generuje liczbę $20$ liczb losowych (rozkład jednostajny) od $1$ do $100$\n",
    "* Wyświetl listę wygenerowanych liczb\n",
    "* Wyświetl średnią\n",
    "* Wyświetl największą i najmniejszą wartość\n",
    "* Wyświetl drugą największą i drugą najmniejszą wartość na liście\n",
    "* Wyświetl ile jest liczb parzystych na liście\n",
    " "
   ]
  },
  {
   "cell_type": "code",
   "execution_count": 4,
   "metadata": {},
   "outputs": [
    {
     "name": "stdout",
     "output_type": "stream",
     "text": "[63, 71, 35, 34, 22, 2, 45, 78, 32, 52, 66, 35, 50, 80, 82, 40, 72, 36, 10, 10]\nsrednia: 45.75\nminima: 2 10\nmaxima: 82 80\nparzyste: 13\n"
    }
   ],
   "source": [
    "import random\n",
    "def deletedItem(x,y):\n",
    "    x.remove(y)\n",
    "    return x\n",
    "lista = [random.randint(1,100) for i in range(20)]\n",
    "print(lista)\n",
    "print(\"srednia: \"+str( sum(lista)/20 ) )\n",
    "minimum = min(lista)\n",
    "minimum2 = min(deletedItem(lista,minimum))\n",
    "maximum = max(lista)\n",
    "maximum2 = max(deletedItem(lista,maximum))\n",
    "print(\"minima: \" + str(minimum) + \" \" + str(minimum2))\n",
    "print(\"maxima: \"+ str(maximum) + \" \" + str(maximum2))\n",
    "print(\"parzyste: \"+str(sum(1 for i in lista if(i%2==0))))"
   ]
  },
  {
   "cell_type": "markdown",
   "metadata": {},
   "source": [
    "## Zadanie 7 _(10pt)_\n",
    "\n",
    "Załóżmy, że mamy następującą listę: `L = ['aababacaa', 'cabaabcca', 'aaabbcbacb', 'acababbaab', ...]` wygenerowaną losowo tzn. lista zawiera losowe ciągi znaków o zadanej długości z liter `'a'`, `'b'` i `'c'`. Takie wzorce występują w wielu miejscach np. sekwencje DNA. Użytkownik zawiera swój (wzorzec) ciąg znaków z literami i pustymi miejscami oznaczonymi przez `'*'` np. `\"a**a******\"`. Wykorzystaj słownik z kluczami zawierającymi indeksy znaków różnych od `'*'` i wartościami liter z wzorca. Napisz program, który znajduje wszystkie sekwencje z listy, które pasuje do podanego wzorca."
   ]
  },
  {
   "cell_type": "code",
   "execution_count": 14,
   "metadata": {},
   "outputs": [
    {
     "name": "stdout",
     "output_type": "stream",
     "text": "['bcbcb', 'cccca', 'cccab', 'abbac', 'ababc', 'acbab', 'bbbcb', 'acbbb', 'bbbba', 'cbccb', 'cccaa', 'acaac', 'babab', 'abaca', 'cbcbc', 'aabbb', 'cbbca', 'cbacb', 'babbc', 'bcabc', 'bbaaa', 'aacca', 'abbbb', 'abaaa', 'cbacb', 'babba', 'aabab', 'aaaba', 'aabca', 'ababb', 'abbaa', 'abaca', 'bbcab', 'ccbbc', 'bacbb', 'bbaaa', 'ccbac', 'bbaaa', 'cbcaa', 'bccbb', 'aaacb', 'baaaa', 'bcbcc', 'ccbba', 'cccba', 'caabb', 'acbaa', 'bcccb', 'ccabb', 'babca', 'aabca', 'cccbc', 'bcabb', 'cbbac', 'acacb', 'acbcc', 'abcab', 'bbacb', 'aabac', 'babaa', 'abcca', 'bcabc', 'bbaab', 'bcbbc', 'abaca', 'bbcbb', 'aabab', 'aacca', 'ccccc', 'cacbc', 'ccbba', 'babcb', 'bccac', 'abaaa', 'ababb', 'cacbc', 'bcabb', 'bccac', 'caaca', 'baaac', 'baabb', 'bbbba', 'acbac', 'bbcbb', 'bcacc', 'abcac', 'aaaaa', 'bacbc', 'aabbc', 'ccabc', 'bcaba', 'ccbbc', 'caaca', 'cbabb', 'bbbbc', 'cacca', 'cbabb', 'abccb', 'acaba', 'aacbc']\n{0: 'a', 2: 'b', 4: 'c'}\n['abbac', 'acbcc', 'aabac', 'acbac', 'aabbc', 'aabbc']\n"
    }
   ],
   "source": [
    "import random\n",
    "letters = ['a','b','c']\n",
    "\n",
    "def createList(size, count):\n",
    "    return  [''.join(random.choices(letters,k=size)) for x in range(count)]\n",
    "def createDictionary(word):\n",
    "    dictionary = {}\n",
    "    for key,value in enumerate(word):\n",
    "        if(value!='*'):\n",
    "            dictionary[key]=value\n",
    "    return dictionary\n",
    "def check(pattern, word):\n",
    "    for key in pattern:\n",
    "        if(word[key] != pattern[key]):\n",
    "           return False\n",
    "            \n",
    "    return True\n",
    "def filterList(words, pattern):\n",
    "    return[s for s in words if(check(pattern,s))]\n",
    "L = createList(5,100)\n",
    "print(L)\n",
    "L.append('aabbc')\n",
    "D = createDictionary(\"a*b*c\")\n",
    "print(D)\n",
    "print(filterList(L,D))"
   ]
  },
  {
   "cell_type": "markdown",
   "metadata": {},
   "source": [
    "## Zadanie 8 _(10pt)_\n",
    "\n",
    "Napisz program, który konwerteruje liczby rzymskie na liczby arabskie. Do zapisu liczb rzymskich używa\n",
    "się 7 liter: `I=1`, `V=5`, `X=10`, `L=50`, `C=100`, `D=500`, `M=1000`. Opis algorytmu zamiany z i na system rzymski można znaleźć np. [tutaj](http://www.algorytm.org/algorytmy-arytmetyczne/zamiana-z-i-na-system-rzymski.html)"
   ]
  },
  {
   "cell_type": "code",
   "execution_count": 20,
   "metadata": {},
   "outputs": [
    {
     "name": "stdout",
     "output_type": "stream",
     "text": "dict_keys(['M', 'D', 'C', 'L', 'X', 'V', 'I'])\n999\ndict_keys(['M', 'D', 'C', 'L', 'X', 'V', 'I'])\n123\ndict_keys(['M', 'D', 'C', 'L', 'X', 'V', 'I'])\n635\ndict_keys(['M', 'D', 'C', 'L', 'X', 'V', 'I'])\n517\ndict_keys(['M', 'D', 'C', 'L', 'X', 'V', 'I'])\n2015\ndict_keys(['M', 'D', 'C', 'L', 'X', 'V', 'I'])\n1154\ndict_keys(['M', 'D', 'C', 'L', 'X', 'V', 'I'])\n3662\ndict_keys(['M', 'D', 'C', 'L', 'X', 'V', 'I'])\n1778\ndict_keys(['M', 'D', 'C', 'L', 'X', 'V', 'I'])\n2137\n"
    }
   ],
   "source": [
    "def get_int_from_roman(roman):\n",
    "    L = {'M' : 1000, 'D' : 500, 'C' : 100, 'L' : 50, 'X' : 10, 'V' : 5, 'I' : 1}\n",
    "    L2 = L.keys\n",
    "    print(L2)\n",
    "    suma = 0\n",
    "    for i in range(roman.__len__()-1):\n",
    "        if(i != roman.__len__() and L[roman[i]] >= L[roman[i+1]]):\n",
    "            suma = suma + L[roman[i]]\n",
    "        else:\n",
    "            suma = suma - L[roman[i]]\n",
    "    suma = suma + L[roman[roman.__len__()-1]]\n",
    "    print(suma)\n",
    "get_int_from_roman(\"CMXCIX\")\n",
    "get_int_from_roman(\"CXXIII\")\n",
    "get_int_from_roman(\"DCXXXV\")\n",
    "get_int_from_roman(\"DXVII\")\n",
    "get_int_from_roman(\"MMXV\")\n",
    "get_int_from_roman(\"MCLIV\")\n",
    "get_int_from_roman(\"MMMDCLXII\")\n",
    "get_int_from_roman(\"MDCCLXXVIII\")\n",
    "get_int_from_roman(\"MMCXXXVII\")"
   ]
  },
  {
   "cell_type": "markdown",
   "metadata": {},
   "source": [
    "## Zadanie 9* _(5pt)_\n",
    "\n",
    "Napisz program kalkulator, który pobiera wprowadzone wartości oraz funkcje z klawiatury następnie podaje wynik. W przypadku błędnych danych zgłasza błąd.\n",
    "\n",
    "Przykładowa sesja:\n",
    "```\n",
    "    Kalkulator\n",
    "    [1]: 2+5*10\n",
    "        52\n",
    "    [2]: sin(0.5)+cos(0.3)\n",
    "        1.434762027729809\n",
    "    [3]: 2^100\n",
    "        1267650600228229401496703205376\n",
    "```\n",
    "\n",
    "Przykładowy kod pobierania danych od użytkownika:\n",
    "\n",
    "```\n",
    "    x = input('Podaj x = ')```"
   ]
  },
  {
   "cell_type": "code",
   "execution_count": 1,
   "metadata": {},
   "outputs": [
    {
     "name": "stdout",
     "output_type": "stream",
     "text": "-32\n"
    }
   ],
   "source": [
    "import math\n",
    "import re\n",
    "\n",
    "x = input('Podaj x = ')\n",
    "\n",
    "\n",
    "slownik = {\"x\":\"(x)\",\"\\^\":\"**\",'sin':'math.sin', \"cos\":\"math.cos\", \"tan\":\"math.tan\", \"pi\":\"math.pi\"}\n",
    "for key,value in slownik.items():\n",
    "    x = re.sub(key,value,x)\n",
    "\n",
    "print(eval(x))"
   ]
  },
  {
   "cell_type": "markdown",
   "metadata": {},
   "source": [
    "\n",
    "## Zadanie 10* _(10pt)_\n",
    "\n",
    "Napisz program, który rysuje na ekranie w trybie znakowym wykres funkcji zmiennej $x$. Wskazówka: utwórz  ,,tablicę dwuwymiarową'' o wymiarach 80x24 i narysuj wykres w tej tablicy. Następnie wynik wyświetl na ekranie.\n",
    "\n",
    "```\n",
    "        Podaj funkcje f(x) = sin(x)\n",
    "        Podaj początek przedziału a = -pi\n",
    "        Podaj koniec przedziału b = pi\n",
    "                                                |\n",
    "                                                |\n",
    "                                                |              ***********\n",
    "                                                |           ***           ***\n",
    "                                                |         **                 **\n",
    "                                                |        *                     *\n",
    "                                                |      **                       **\n",
    "                                                |     *                           *\n",
    "                                                |   **                             **\n",
    "                                                |  *                                 *\n",
    "                                                | *                                   *\n",
    "                                                |*                                     *\n",
    "        ----------------------------------------|---------------------------------------\n",
    "          *                                   * |\n",
    "           *                                 *  |\n",
    "            **                             **   |\n",
    "              *                           *     |\n",
    "               **                       **      |\n",
    "                 *                     *        |\n",
    "                  **                 **         |\n",
    "                    ***           ***           |\n",
    "                       ***** *****              |\n",
    "                            *                   |\n",
    "                                                |\n",
    "```"
   ]
  },
  {
   "cell_type": "code",
   "execution_count": 242,
   "metadata": {},
   "outputs": [
    {
     "name": "stdout",
     "output_type": "stream",
     "text": "\n                                        *                                        \n            ****                       * *                       ****            \n           *                          *   *                          *           \n                *                    *     *                    *                \n          *                                                           *          \n                 *                  *       *                  *                 \n         *                                                             *         \n                  *                                           *                  \n                                   *         *                                   \n        *                                                               *        \n                   *                                         *                   \n                                  *           *                                  \n       *            *                                                    *       \n                                 *             *            *                    \n      *                                                                   *      \n                     *                                     *                     \n                                *               *                                \n     *                                                                     *     \n                      *                                   *                      \n                               *                 *                               \n    *                  *                                 *                  *    \n                              *                   *                              \n   *                    *                               *                    *   \n  *                          *                     *                          *  \n**                       ****                       ****                       **\n"
    }
   ],
   "source": [
    "def getFunction(x):\n",
    "    slownik = {\"x\":\"(x)\",\"\\^\":\"**\",'sin':'math.sin', \"cos\":\"math.cos\", \"tan\":\"math.tan\", \"pi\":\"math.pi\"}\n",
    "    for key,value in slownik.items():\n",
    "        x = re.sub(key,value,x)\n",
    "    return x\n",
    "def iterateX(x, val, a):\n",
    "    arr = []\n",
    "    for i in range(25):\n",
    "        arr.append([])\n",
    "        for j in range(81):\n",
    "            arr[i].append(' ')\n",
    "    #print(arr[0])\n",
    "    value = 0\n",
    "    minimal = eval(re.sub(\"x\",str(eval(a)),x))\n",
    "    maximal = minimal\n",
    "    for i in range(81):\n",
    "        s = re.sub(\"x\",str(val*i+eval(a)), x)\n",
    "        minimal = min(minimal,eval(s))\n",
    "        maximal = max(maximal,eval(s))\n",
    "    for i in range(81):\n",
    "          s = re.sub(\"x\",str(val*i+eval(a)), x)\n",
    "          value = (eval(s)-minimal)*(24/(maximal-minimal))\n",
    "          arr[24-int(value)][i] = '*'\n",
    "         # print(value)\n",
    "    print()\n",
    "    for j in range(25):\n",
    "        print(''.join(arr[j]))\n",
    "x = input('Podaj f(x) = ')\n",
    "a = input(\"Podaj a = \")\n",
    "b = input(\"Podaj b = \")\n",
    "a = re.sub(\"pi\",\"math.pi\",a)\n",
    "b = re.sub(\"pi\",\"math.pi\",b)\n",
    "x = getFunction(x)\n",
    "value = (eval(b)-eval(a))/80\n",
    "iterateX(x,value,a)"
   ]
  },
  {
   "cell_type": "code",
   "execution_count": null,
   "metadata": {},
   "outputs": [],
   "source": []
  }
 ],
 "metadata": {
  "kernelspec": {
   "display_name": "Python 3",
   "language": "python",
   "name": "python3"
  },
  "language_info": {
   "codemirror_mode": {
    "name": "ipython",
    "version": 3
   },
   "file_extension": ".py",
   "mimetype": "text/x-python",
   "name": "python",
   "nbconvert_exporter": "python",
   "pygments_lexer": "ipython3",
   "version": "3.7.6-final"
  }
 },
 "nbformat": 4,
 "nbformat_minor": 2
}